{
 "cells": [
  {
   "cell_type": "markdown",
   "metadata": {},
   "source": [
    "# Dice Roll Simulator"
   ]
  },
  {
   "cell_type": "markdown",
   "metadata": {},
   "source": [
    "Using Python Lets Create a dice "
   ]
  },
  {
   "cell_type": "code",
   "execution_count": 3,
   "metadata": {},
   "outputs": [
    {
     "name": "stdout",
     "output_type": "stream",
     "text": [
      "Press any number to roll and 0 to quit:\n",
      "5\n",
      "6\n",
      "Press any number to roll and 0 to quit:\n",
      "6\n",
      "3\n",
      "Press any number to roll and 0 to quit:\n",
      "80000000\n",
      "4\n",
      "Press any number to roll and 0 to quit:\n",
      "0\n"
     ]
    }
   ],
   "source": [
    "import random # random package is used to generate some random numbers\n",
    "while int(input(\"Press any number to roll and 0 to quit:\\n\")): #\n",
    "      print(random.randint(1,6)) # the random number should be from 1 to 6"
   ]
  },
  {
   "cell_type": "code",
   "execution_count": null,
   "metadata": {},
   "outputs": [],
   "source": []
  }
 ],
 "metadata": {
  "kernelspec": {
   "display_name": "Python 3",
   "language": "python",
   "name": "python3"
  },
  "language_info": {
   "codemirror_mode": {
    "name": "ipython",
    "version": 3
   },
   "file_extension": ".py",
   "mimetype": "text/x-python",
   "name": "python",
   "nbconvert_exporter": "python",
   "pygments_lexer": "ipython3",
   "version": "3.7.4"
  }
 },
 "nbformat": 4,
 "nbformat_minor": 2
}
