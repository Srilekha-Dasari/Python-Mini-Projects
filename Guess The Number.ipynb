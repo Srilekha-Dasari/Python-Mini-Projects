{
 "cells": [
  {
   "cell_type": "markdown",
   "metadata": {},
   "source": [
    "Guess The Number in three chances"
   ]
  },
  {
   "cell_type": "code",
   "execution_count": 30,
   "metadata": {},
   "outputs": [
    {
     "ename": "SyntaxError",
     "evalue": "invalid syntax (<ipython-input-30-7659b0cf2a67>, line 8)",
     "output_type": "error",
     "traceback": [
      "\u001b[1;36m  File \u001b[1;32m\"<ipython-input-30-7659b0cf2a67>\"\u001b[1;36m, line \u001b[1;32m8\u001b[0m\n\u001b[1;33m    elif user>number:\u001b[0m\n\u001b[1;37m       ^\u001b[0m\n\u001b[1;31mSyntaxError\u001b[0m\u001b[1;31m:\u001b[0m invalid syntax\n"
     ]
    }
   ],
   "source": [
    "import random\n",
    "number = random.randint(1,10)\n",
    "for i in range(0,3):\n",
    "    user = int(input(\"guess the number\"))\n",
    "    if user == number:\n",
    "        print(f\"Hurray! you guessed the number right it's {number}\")\n",
    "    break\n",
    "    elif user>number:\n",
    "         print(\"your guess is too high\")\n",
    "    elif user<number:\n",
    "         print(\"your guess is too low\")\n",
    "    else:\n",
    "        print(f\"Nice Try! But the number is {number}\")"
   ]
  },
  {
   "cell_type": "code",
   "execution_count": null,
   "metadata": {},
   "outputs": [],
   "source": []
  },
  {
   "cell_type": "code",
   "execution_count": null,
   "metadata": {},
   "outputs": [],
   "source": []
  }
 ],
 "metadata": {
  "kernelspec": {
   "display_name": "Python 3",
   "language": "python",
   "name": "python3"
  },
  "language_info": {
   "codemirror_mode": {
    "name": "ipython",
    "version": 3
   },
   "file_extension": ".py",
   "mimetype": "text/x-python",
   "name": "python",
   "nbconvert_exporter": "python",
   "pygments_lexer": "ipython3",
   "version": "3.7.4"
  }
 },
 "nbformat": 4,
 "nbformat_minor": 2
}
